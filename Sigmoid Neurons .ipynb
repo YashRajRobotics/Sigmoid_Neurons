{
  "nbformat": 4,
  "nbformat_minor": 0,
  "metadata": {
    "colab": {
      "name": "Sigmoid Neuron - Comparision to Logistic Regression.ipynb",
      "provenance": [],
      "collapsed_sections": []
    },
    "kernelspec": {
      "name": "python3",
      "display_name": "Python 3"
    }
  },
  "cells": [
    {
      "cell_type": "markdown",
      "metadata": {
        "id": "uJ2zOfpFGLYa",
        "colab_type": "text"
      },
      "source": [
        "# SetUp & Data Processing"
      ]
    },
    {
      "cell_type": "markdown",
      "metadata": {
        "id": "Bdc_9sHvGStB",
        "colab_type": "text"
      },
      "source": [
        "### Import Packages"
      ]
    },
    {
      "cell_type": "code",
      "metadata": {
        "id": "oobiaK4YF-r5",
        "colab_type": "code",
        "colab": {}
      },
      "source": [
        "import numpy as np\n",
        "import pandas as pd\n",
        "from sklearn.model_selection import train_test_split\n",
        "from sklearn.metrics import accuracy_score, mean_squared_error\n",
        "from tqdm import tqdm_notebook\n",
        "import warnings\n",
        "warnings.filterwarnings('ignore')\n",
        "import sklearn.datasets\n",
        "%matplotlib inline\n",
        "pd.set_option('display.max_rows', 500)\n",
        "pd.set_option('display.max_columns', 500)"
      ],
      "execution_count": 0,
      "outputs": []
    },
    {
      "cell_type": "markdown",
      "metadata": {
        "id": "o_50sLdTGwCZ",
        "colab_type": "text"
      },
      "source": [
        "### Use inbuilt dataset - SKLearn Cancer Prediction Dataset"
      ]
    },
    {
      "cell_type": "code",
      "metadata": {
        "id": "XPA84_1WF-oc",
        "colab_type": "code",
        "colab": {
          "base_uri": "https://localhost:8080/",
          "height": 249
        },
        "outputId": "2f1e091c-e462-4199-cc40-52ef2f6bb028"
      },
      "source": [
        "cancerVals = sklearn.datasets.load_breast_cancer()\n",
        "x = cancerVals.data\n",
        "y = cancerVals.target\n",
        "df = pd.DataFrame(cancerVals.data, columns=cancerVals.feature_names)\n",
        "df['cancer'] = cancerVals.target\n",
        "label = df['cancer']\n",
        "df = df.drop('cancer', axis=1)\n",
        "\n",
        "df.head()"
      ],
      "execution_count": 2,
      "outputs": [
        {
          "output_type": "execute_result",
          "data": {
            "text/html": [
              "<div>\n",
              "<style scoped>\n",
              "    .dataframe tbody tr th:only-of-type {\n",
              "        vertical-align: middle;\n",
              "    }\n",
              "\n",
              "    .dataframe tbody tr th {\n",
              "        vertical-align: top;\n",
              "    }\n",
              "\n",
              "    .dataframe thead th {\n",
              "        text-align: right;\n",
              "    }\n",
              "</style>\n",
              "<table border=\"1\" class=\"dataframe\">\n",
              "  <thead>\n",
              "    <tr style=\"text-align: right;\">\n",
              "      <th></th>\n",
              "      <th>mean radius</th>\n",
              "      <th>mean texture</th>\n",
              "      <th>mean perimeter</th>\n",
              "      <th>mean area</th>\n",
              "      <th>mean smoothness</th>\n",
              "      <th>mean compactness</th>\n",
              "      <th>mean concavity</th>\n",
              "      <th>mean concave points</th>\n",
              "      <th>mean symmetry</th>\n",
              "      <th>mean fractal dimension</th>\n",
              "      <th>radius error</th>\n",
              "      <th>texture error</th>\n",
              "      <th>perimeter error</th>\n",
              "      <th>area error</th>\n",
              "      <th>smoothness error</th>\n",
              "      <th>compactness error</th>\n",
              "      <th>concavity error</th>\n",
              "      <th>concave points error</th>\n",
              "      <th>symmetry error</th>\n",
              "      <th>fractal dimension error</th>\n",
              "      <th>worst radius</th>\n",
              "      <th>worst texture</th>\n",
              "      <th>worst perimeter</th>\n",
              "      <th>worst area</th>\n",
              "      <th>worst smoothness</th>\n",
              "      <th>worst compactness</th>\n",
              "      <th>worst concavity</th>\n",
              "      <th>worst concave points</th>\n",
              "      <th>worst symmetry</th>\n",
              "      <th>worst fractal dimension</th>\n",
              "    </tr>\n",
              "  </thead>\n",
              "  <tbody>\n",
              "    <tr>\n",
              "      <th>0</th>\n",
              "      <td>17.99</td>\n",
              "      <td>10.38</td>\n",
              "      <td>122.80</td>\n",
              "      <td>1001.0</td>\n",
              "      <td>0.11840</td>\n",
              "      <td>0.27760</td>\n",
              "      <td>0.3001</td>\n",
              "      <td>0.14710</td>\n",
              "      <td>0.2419</td>\n",
              "      <td>0.07871</td>\n",
              "      <td>1.0950</td>\n",
              "      <td>0.9053</td>\n",
              "      <td>8.589</td>\n",
              "      <td>153.40</td>\n",
              "      <td>0.006399</td>\n",
              "      <td>0.04904</td>\n",
              "      <td>0.05373</td>\n",
              "      <td>0.01587</td>\n",
              "      <td>0.03003</td>\n",
              "      <td>0.006193</td>\n",
              "      <td>25.38</td>\n",
              "      <td>17.33</td>\n",
              "      <td>184.60</td>\n",
              "      <td>2019.0</td>\n",
              "      <td>0.1622</td>\n",
              "      <td>0.6656</td>\n",
              "      <td>0.7119</td>\n",
              "      <td>0.2654</td>\n",
              "      <td>0.4601</td>\n",
              "      <td>0.11890</td>\n",
              "    </tr>\n",
              "    <tr>\n",
              "      <th>1</th>\n",
              "      <td>20.57</td>\n",
              "      <td>17.77</td>\n",
              "      <td>132.90</td>\n",
              "      <td>1326.0</td>\n",
              "      <td>0.08474</td>\n",
              "      <td>0.07864</td>\n",
              "      <td>0.0869</td>\n",
              "      <td>0.07017</td>\n",
              "      <td>0.1812</td>\n",
              "      <td>0.05667</td>\n",
              "      <td>0.5435</td>\n",
              "      <td>0.7339</td>\n",
              "      <td>3.398</td>\n",
              "      <td>74.08</td>\n",
              "      <td>0.005225</td>\n",
              "      <td>0.01308</td>\n",
              "      <td>0.01860</td>\n",
              "      <td>0.01340</td>\n",
              "      <td>0.01389</td>\n",
              "      <td>0.003532</td>\n",
              "      <td>24.99</td>\n",
              "      <td>23.41</td>\n",
              "      <td>158.80</td>\n",
              "      <td>1956.0</td>\n",
              "      <td>0.1238</td>\n",
              "      <td>0.1866</td>\n",
              "      <td>0.2416</td>\n",
              "      <td>0.1860</td>\n",
              "      <td>0.2750</td>\n",
              "      <td>0.08902</td>\n",
              "    </tr>\n",
              "    <tr>\n",
              "      <th>2</th>\n",
              "      <td>19.69</td>\n",
              "      <td>21.25</td>\n",
              "      <td>130.00</td>\n",
              "      <td>1203.0</td>\n",
              "      <td>0.10960</td>\n",
              "      <td>0.15990</td>\n",
              "      <td>0.1974</td>\n",
              "      <td>0.12790</td>\n",
              "      <td>0.2069</td>\n",
              "      <td>0.05999</td>\n",
              "      <td>0.7456</td>\n",
              "      <td>0.7869</td>\n",
              "      <td>4.585</td>\n",
              "      <td>94.03</td>\n",
              "      <td>0.006150</td>\n",
              "      <td>0.04006</td>\n",
              "      <td>0.03832</td>\n",
              "      <td>0.02058</td>\n",
              "      <td>0.02250</td>\n",
              "      <td>0.004571</td>\n",
              "      <td>23.57</td>\n",
              "      <td>25.53</td>\n",
              "      <td>152.50</td>\n",
              "      <td>1709.0</td>\n",
              "      <td>0.1444</td>\n",
              "      <td>0.4245</td>\n",
              "      <td>0.4504</td>\n",
              "      <td>0.2430</td>\n",
              "      <td>0.3613</td>\n",
              "      <td>0.08758</td>\n",
              "    </tr>\n",
              "    <tr>\n",
              "      <th>3</th>\n",
              "      <td>11.42</td>\n",
              "      <td>20.38</td>\n",
              "      <td>77.58</td>\n",
              "      <td>386.1</td>\n",
              "      <td>0.14250</td>\n",
              "      <td>0.28390</td>\n",
              "      <td>0.2414</td>\n",
              "      <td>0.10520</td>\n",
              "      <td>0.2597</td>\n",
              "      <td>0.09744</td>\n",
              "      <td>0.4956</td>\n",
              "      <td>1.1560</td>\n",
              "      <td>3.445</td>\n",
              "      <td>27.23</td>\n",
              "      <td>0.009110</td>\n",
              "      <td>0.07458</td>\n",
              "      <td>0.05661</td>\n",
              "      <td>0.01867</td>\n",
              "      <td>0.05963</td>\n",
              "      <td>0.009208</td>\n",
              "      <td>14.91</td>\n",
              "      <td>26.50</td>\n",
              "      <td>98.87</td>\n",
              "      <td>567.7</td>\n",
              "      <td>0.2098</td>\n",
              "      <td>0.8663</td>\n",
              "      <td>0.6869</td>\n",
              "      <td>0.2575</td>\n",
              "      <td>0.6638</td>\n",
              "      <td>0.17300</td>\n",
              "    </tr>\n",
              "    <tr>\n",
              "      <th>4</th>\n",
              "      <td>20.29</td>\n",
              "      <td>14.34</td>\n",
              "      <td>135.10</td>\n",
              "      <td>1297.0</td>\n",
              "      <td>0.10030</td>\n",
              "      <td>0.13280</td>\n",
              "      <td>0.1980</td>\n",
              "      <td>0.10430</td>\n",
              "      <td>0.1809</td>\n",
              "      <td>0.05883</td>\n",
              "      <td>0.7572</td>\n",
              "      <td>0.7813</td>\n",
              "      <td>5.438</td>\n",
              "      <td>94.44</td>\n",
              "      <td>0.011490</td>\n",
              "      <td>0.02461</td>\n",
              "      <td>0.05688</td>\n",
              "      <td>0.01885</td>\n",
              "      <td>0.01756</td>\n",
              "      <td>0.005115</td>\n",
              "      <td>22.54</td>\n",
              "      <td>16.67</td>\n",
              "      <td>152.20</td>\n",
              "      <td>1575.0</td>\n",
              "      <td>0.1374</td>\n",
              "      <td>0.2050</td>\n",
              "      <td>0.4000</td>\n",
              "      <td>0.1625</td>\n",
              "      <td>0.2364</td>\n",
              "      <td>0.07678</td>\n",
              "    </tr>\n",
              "  </tbody>\n",
              "</table>\n",
              "</div>"
            ],
            "text/plain": [
              "   mean radius  mean texture  mean perimeter  mean area  mean smoothness  \\\n",
              "0        17.99         10.38          122.80     1001.0          0.11840   \n",
              "1        20.57         17.77          132.90     1326.0          0.08474   \n",
              "2        19.69         21.25          130.00     1203.0          0.10960   \n",
              "3        11.42         20.38           77.58      386.1          0.14250   \n",
              "4        20.29         14.34          135.10     1297.0          0.10030   \n",
              "\n",
              "   mean compactness  mean concavity  mean concave points  mean symmetry  \\\n",
              "0           0.27760          0.3001              0.14710         0.2419   \n",
              "1           0.07864          0.0869              0.07017         0.1812   \n",
              "2           0.15990          0.1974              0.12790         0.2069   \n",
              "3           0.28390          0.2414              0.10520         0.2597   \n",
              "4           0.13280          0.1980              0.10430         0.1809   \n",
              "\n",
              "   mean fractal dimension  radius error  texture error  perimeter error  \\\n",
              "0                 0.07871        1.0950         0.9053            8.589   \n",
              "1                 0.05667        0.5435         0.7339            3.398   \n",
              "2                 0.05999        0.7456         0.7869            4.585   \n",
              "3                 0.09744        0.4956         1.1560            3.445   \n",
              "4                 0.05883        0.7572         0.7813            5.438   \n",
              "\n",
              "   area error  smoothness error  compactness error  concavity error  \\\n",
              "0      153.40          0.006399            0.04904          0.05373   \n",
              "1       74.08          0.005225            0.01308          0.01860   \n",
              "2       94.03          0.006150            0.04006          0.03832   \n",
              "3       27.23          0.009110            0.07458          0.05661   \n",
              "4       94.44          0.011490            0.02461          0.05688   \n",
              "\n",
              "   concave points error  symmetry error  fractal dimension error  \\\n",
              "0               0.01587         0.03003                 0.006193   \n",
              "1               0.01340         0.01389                 0.003532   \n",
              "2               0.02058         0.02250                 0.004571   \n",
              "3               0.01867         0.05963                 0.009208   \n",
              "4               0.01885         0.01756                 0.005115   \n",
              "\n",
              "   worst radius  worst texture  worst perimeter  worst area  worst smoothness  \\\n",
              "0         25.38          17.33           184.60      2019.0            0.1622   \n",
              "1         24.99          23.41           158.80      1956.0            0.1238   \n",
              "2         23.57          25.53           152.50      1709.0            0.1444   \n",
              "3         14.91          26.50            98.87       567.7            0.2098   \n",
              "4         22.54          16.67           152.20      1575.0            0.1374   \n",
              "\n",
              "   worst compactness  worst concavity  worst concave points  worst symmetry  \\\n",
              "0             0.6656           0.7119                0.2654          0.4601   \n",
              "1             0.1866           0.2416                0.1860          0.2750   \n",
              "2             0.4245           0.4504                0.2430          0.3613   \n",
              "3             0.8663           0.6869                0.2575          0.6638   \n",
              "4             0.2050           0.4000                0.1625          0.2364   \n",
              "\n",
              "   worst fractal dimension  \n",
              "0                  0.11890  \n",
              "1                  0.08902  \n",
              "2                  0.08758  \n",
              "3                  0.17300  \n",
              "4                  0.07678  "
            ]
          },
          "metadata": {
            "tags": []
          },
          "execution_count": 2
        }
      ]
    },
    {
      "cell_type": "markdown",
      "metadata": {
        "id": "xMuuAMbiJTbX",
        "colab_type": "text"
      },
      "source": [
        "### Split into Test and Train Data"
      ]
    },
    {
      "cell_type": "code",
      "metadata": {
        "id": "LLhIbeJiJXkE",
        "colab_type": "code",
        "colab": {}
      },
      "source": [
        "X_train, X_validate, Y_train, Y_validate = train_test_split(df, label, test_size=0.1, random_state=3, stratify=label)"
      ],
      "execution_count": 0,
      "outputs": []
    },
    {
      "cell_type": "markdown",
      "metadata": {
        "id": "Wf_h_2DQHchh",
        "colab_type": "text"
      },
      "source": [
        "# Class Sigmoid Neuron - Compressed Version"
      ]
    },
    {
      "cell_type": "code",
      "metadata": {
        "id": "Dz8yFfqVF-mQ",
        "colab_type": "code",
        "colab": {}
      },
      "source": [
        "class SigmoidNeuronCompressed :\n",
        "  def __init__ (self) : self.w, self.b = [0], 0    \n",
        "  def f ( self, x ) : return 1.0/(1.0 + np.exp(-( np.dot(self.w,x) + self.b )))\n",
        "  def grad_w_reg ( self, x, y ) : return (self.f(x)-y) * self.f(x) * (1-self.f(x)) * x\n",
        "  def grad_b_reg ( self, x, y ) : return (self.f(x)-y) * self.f(x) * (1-self.f(x))  \n",
        "  def grad_w_class ( self, x, y ) : return self.f(x) * x      if y == 0      else ( self.f(x) - 1 ) * x           \n",
        "  def grad_b_class ( self, x, y ) : return self.f(x)      if y == 0      else ( self.f(x) - 1 )\n",
        "  def fit ( self, X_train, Y_train, epochs=1, learning_rate=1) :\n",
        "    if (type(X_train) == pd.core.frame.DataFrame) : X_train, Y_train = X_train.values, Y_train.values     \n",
        "    self.type_, self.w, self.b = ['class', np.zeros(X_train.shape[1]).reshape(-1,1).T, 0]      if (list(Y_train).count(0)+list(Y_train).count(1)==Y_train.shape[0])      else ['reg', np.zeros(X_train.shape[1]).reshape(-1,1).T, 0]\n",
        "    for i in range(epochs) :\n",
        "      dw, db = 0, 0\n",
        "      for x,y in zip(X_train,Y_train):dw,db=[dw+self.grad_w_reg(x,y),db+self.grad_b_reg(x,y)] if self.type_=='reg' else[dw+self.grad_w_class(x,y),db+self.grad_b_class(x,y)]\n",
        "      self.w, self.b = self.w - (learning_rate*dw) , self.b - (learning_rate*db)         \n",
        "  def predict ( self, X_validate, binarise=False, Threshold=-1 ) :\n",
        "    X_validate, Y_pred = [X_validate.values, []]      if (type(X_validate) == pd.core.frame.DataFrame)      else [X_validate, []]\n",
        "    for x in X_validate : Y_pred.append(self.f(x))   \n",
        "    if binarise and self.type_=='reg' : self.threshold = Y_pred.mean      if Threshold == -1      else Threshold\n",
        "    return np.array((np.array(Y_pred)>=self.threshold).astype('int').ravel() if binarise and self.type_=='reg' else Y_pred )"
      ],
      "execution_count": 0,
      "outputs": []
    },
    {
      "cell_type": "markdown",
      "metadata": {
        "id": "hOiqrIxRH1Wp",
        "colab_type": "text"
      },
      "source": [
        "# Comparision To Logistic Regression"
      ]
    },
    {
      "cell_type": "markdown",
      "metadata": {
        "id": "7Hiuwc2KH99v",
        "colab_type": "text"
      },
      "source": [
        "### Import Logistic Regression from SKLearn"
      ]
    },
    {
      "cell_type": "code",
      "metadata": {
        "id": "ikSFMOivF-iu",
        "colab_type": "code",
        "colab": {}
      },
      "source": [
        "from sklearn.linear_model import LogisticRegression"
      ],
      "execution_count": 0,
      "outputs": []
    },
    {
      "cell_type": "markdown",
      "metadata": {
        "id": "wVBo-PI3IIbU",
        "colab_type": "text"
      },
      "source": [
        "### Instantiate Both Classes"
      ]
    },
    {
      "cell_type": "code",
      "metadata": {
        "id": "k9Jtb9BEF-fd",
        "colab_type": "code",
        "colab": {}
      },
      "source": [
        "logreg = LogisticRegression()\n",
        "sn = SigmoidNeuronCompressed()"
      ],
      "execution_count": 0,
      "outputs": []
    },
    {
      "cell_type": "markdown",
      "metadata": {
        "id": "-m1w2YIkIXrR",
        "colab_type": "text"
      },
      "source": [
        "### Fit **Same Data** on Both Models"
      ]
    },
    {
      "cell_type": "code",
      "metadata": {
        "id": "vo3RV2DjF-cs",
        "colab_type": "code",
        "colab": {}
      },
      "source": [
        "logreg.fit(X_train, Y_train)\n",
        "sn  .  fit(X_train, Y_train, epochs=250, learning_rate=0.015)"
      ],
      "execution_count": 0,
      "outputs": []
    },
    {
      "cell_type": "markdown",
      "metadata": {
        "id": "UOqYVNDlJcQR",
        "colab_type": "text"
      },
      "source": [
        "### Predict For Both Models"
      ]
    },
    {
      "cell_type": "code",
      "metadata": {
        "id": "9HS3yzEZF-ZQ",
        "colab_type": "code",
        "colab": {}
      },
      "source": [
        "Y_pred_logistic = logreg.predict(X_validate)\n",
        "Y_pred_sigmoid = sn.predict(X_validate)"
      ],
      "execution_count": 0,
      "outputs": []
    },
    {
      "cell_type": "markdown",
      "metadata": {
        "id": "rLXMft3iJvDa",
        "colab_type": "text"
      },
      "source": [
        "### Compare Accuracies For Both Models"
      ]
    },
    {
      "cell_type": "code",
      "metadata": {
        "id": "VWx17zKHF-WL",
        "colab_type": "code",
        "colab": {
          "base_uri": "https://localhost:8080/",
          "height": 70
        },
        "outputId": "c6c53d4b-12e9-4bbe-9d32-ba39e9f0c3c1"
      },
      "source": [
        "# Compare accuracies\n",
        "print ('   Accuracy of sigmoid neuron   = ', accuracy_score(Y_pred_sigmoid , Y_validate)*100, '%')\n",
        "print ('Accuracy of logistic regression = ', accuracy_score(Y_pred_logistic, Y_validate)*100, '%')\n",
        "print ('    Net increase in accuracy    = ', accuracy_score(Y_pred_sigmoid , Y_validate)*100 - accuracy_score(Y_pred_logistic, Y_validate)*100 , '%')"
      ],
      "execution_count": 9,
      "outputs": [
        {
          "output_type": "stream",
          "text": [
            "   Accuracy of sigmoid neuron   =  94.73684210526315 %\n",
            "Accuracy of logistic regression =  89.47368421052632 %\n",
            "    Net increase in accuracy    =  5.263157894736835 %\n"
          ],
          "name": "stdout"
        }
      ]
    },
    {
      "cell_type": "markdown",
      "metadata": {
        "id": "pVXfmAKRKAbq",
        "colab_type": "text"
      },
      "source": [
        "# The Accuracy for Logistic Model is **89.47368421052632 %** <br>\n",
        "# The Accuracy for  Sigmoid Model is **94.73684210526315 %** <br>\n",
        "# Net increase in accuracy of Models is **5.263157894736835 %** <br>"
      ]
    }
  ]
}